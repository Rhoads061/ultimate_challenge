{
 "cells": [
  {
   "cell_type": "code",
   "execution_count": 2,
   "metadata": {},
   "outputs": [],
   "source": [
    "import pandas as pd\n",
    "import matplotlib.pyplot as plt\n",
    "import json\n",
    "from pandas.io.json import json_normalize\n",
    "import seaborn as sns\n",
    "from datetime import datetime, date\n",
    "import numpy as np\n",
    "import pickle"
   ]
  },
  {
   "cell_type": "code",
   "execution_count": 3,
   "metadata": {},
   "outputs": [],
   "source": [
    "jdict= json.load((open('ultimate_data_challenge.json')))\n"
   ]
  },
  {
   "cell_type": "code",
   "execution_count": 4,
   "metadata": {},
   "outputs": [
    {
     "data": {
      "text/html": [
       "<div>\n",
       "<style scoped>\n",
       "    .dataframe tbody tr th:only-of-type {\n",
       "        vertical-align: middle;\n",
       "    }\n",
       "\n",
       "    .dataframe tbody tr th {\n",
       "        vertical-align: top;\n",
       "    }\n",
       "\n",
       "    .dataframe thead th {\n",
       "        text-align: right;\n",
       "    }\n",
       "</style>\n",
       "<table border=\"1\" class=\"dataframe\">\n",
       "  <thead>\n",
       "    <tr style=\"text-align: right;\">\n",
       "      <th></th>\n",
       "      <th>avg_dist</th>\n",
       "      <th>avg_rating_by_driver</th>\n",
       "      <th>avg_rating_of_driver</th>\n",
       "      <th>avg_surge</th>\n",
       "      <th>city</th>\n",
       "      <th>last_trip_date</th>\n",
       "      <th>phone</th>\n",
       "      <th>signup_date</th>\n",
       "      <th>surge_pct</th>\n",
       "      <th>trips_in_first_30_days</th>\n",
       "      <th>ultimate_black_user</th>\n",
       "      <th>weekday_pct</th>\n",
       "    </tr>\n",
       "  </thead>\n",
       "  <tbody>\n",
       "    <tr>\n",
       "      <th>0</th>\n",
       "      <td>3.67</td>\n",
       "      <td>5.0</td>\n",
       "      <td>4.7</td>\n",
       "      <td>1.10</td>\n",
       "      <td>King's Landing</td>\n",
       "      <td>2014-06-17</td>\n",
       "      <td>iPhone</td>\n",
       "      <td>2014-01-25</td>\n",
       "      <td>15.4</td>\n",
       "      <td>4</td>\n",
       "      <td>True</td>\n",
       "      <td>46.2</td>\n",
       "    </tr>\n",
       "    <tr>\n",
       "      <th>1</th>\n",
       "      <td>8.26</td>\n",
       "      <td>5.0</td>\n",
       "      <td>5.0</td>\n",
       "      <td>1.00</td>\n",
       "      <td>Astapor</td>\n",
       "      <td>2014-05-05</td>\n",
       "      <td>Android</td>\n",
       "      <td>2014-01-29</td>\n",
       "      <td>0.0</td>\n",
       "      <td>0</td>\n",
       "      <td>False</td>\n",
       "      <td>50.0</td>\n",
       "    </tr>\n",
       "    <tr>\n",
       "      <th>2</th>\n",
       "      <td>0.77</td>\n",
       "      <td>5.0</td>\n",
       "      <td>4.3</td>\n",
       "      <td>1.00</td>\n",
       "      <td>Astapor</td>\n",
       "      <td>2014-01-07</td>\n",
       "      <td>iPhone</td>\n",
       "      <td>2014-01-06</td>\n",
       "      <td>0.0</td>\n",
       "      <td>3</td>\n",
       "      <td>False</td>\n",
       "      <td>100.0</td>\n",
       "    </tr>\n",
       "    <tr>\n",
       "      <th>3</th>\n",
       "      <td>2.36</td>\n",
       "      <td>4.9</td>\n",
       "      <td>4.6</td>\n",
       "      <td>1.14</td>\n",
       "      <td>King's Landing</td>\n",
       "      <td>2014-06-29</td>\n",
       "      <td>iPhone</td>\n",
       "      <td>2014-01-10</td>\n",
       "      <td>20.0</td>\n",
       "      <td>9</td>\n",
       "      <td>True</td>\n",
       "      <td>80.0</td>\n",
       "    </tr>\n",
       "    <tr>\n",
       "      <th>4</th>\n",
       "      <td>3.13</td>\n",
       "      <td>4.9</td>\n",
       "      <td>4.4</td>\n",
       "      <td>1.19</td>\n",
       "      <td>Winterfell</td>\n",
       "      <td>2014-03-15</td>\n",
       "      <td>Android</td>\n",
       "      <td>2014-01-27</td>\n",
       "      <td>11.8</td>\n",
       "      <td>14</td>\n",
       "      <td>False</td>\n",
       "      <td>82.4</td>\n",
       "    </tr>\n",
       "  </tbody>\n",
       "</table>\n",
       "</div>"
      ],
      "text/plain": [
       "   avg_dist  avg_rating_by_driver  avg_rating_of_driver  avg_surge  \\\n",
       "0      3.67                   5.0                   4.7       1.10   \n",
       "1      8.26                   5.0                   5.0       1.00   \n",
       "2      0.77                   5.0                   4.3       1.00   \n",
       "3      2.36                   4.9                   4.6       1.14   \n",
       "4      3.13                   4.9                   4.4       1.19   \n",
       "\n",
       "             city last_trip_date    phone signup_date  surge_pct  \\\n",
       "0  King's Landing     2014-06-17   iPhone  2014-01-25       15.4   \n",
       "1         Astapor     2014-05-05  Android  2014-01-29        0.0   \n",
       "2         Astapor     2014-01-07   iPhone  2014-01-06        0.0   \n",
       "3  King's Landing     2014-06-29   iPhone  2014-01-10       20.0   \n",
       "4      Winterfell     2014-03-15  Android  2014-01-27       11.8   \n",
       "\n",
       "   trips_in_first_30_days  ultimate_black_user  weekday_pct  \n",
       "0                       4                 True         46.2  \n",
       "1                       0                False         50.0  \n",
       "2                       3                False        100.0  \n",
       "3                       9                 True         80.0  \n",
       "4                      14                False         82.4  "
      ]
     },
     "execution_count": 4,
     "metadata": {},
     "output_type": "execute_result"
    }
   ],
   "source": [
    "ulti_df= json_normalize(jdict)\n",
    "ulti_df.head()"
   ]
  },
  {
   "cell_type": "markdown",
   "metadata": {},
   "source": [
    "Part One"
   ]
  },
  {
   "cell_type": "code",
   "execution_count": 5,
   "metadata": {},
   "outputs": [],
   "source": [
    "logins= pd.read_json('logins.json')"
   ]
  },
  {
   "cell_type": "code",
   "execution_count": 6,
   "metadata": {
    "scrolled": false
   },
   "outputs": [
    {
     "data": {
      "text/html": [
       "<div>\n",
       "<style scoped>\n",
       "    .dataframe tbody tr th:only-of-type {\n",
       "        vertical-align: middle;\n",
       "    }\n",
       "\n",
       "    .dataframe tbody tr th {\n",
       "        vertical-align: top;\n",
       "    }\n",
       "\n",
       "    .dataframe thead th {\n",
       "        text-align: right;\n",
       "    }\n",
       "</style>\n",
       "<table border=\"1\" class=\"dataframe\">\n",
       "  <thead>\n",
       "    <tr style=\"text-align: right;\">\n",
       "      <th></th>\n",
       "      <th>login_time</th>\n",
       "    </tr>\n",
       "  </thead>\n",
       "  <tbody>\n",
       "    <tr>\n",
       "      <th>93137</th>\n",
       "      <td>1970-04-13 18:50:19</td>\n",
       "    </tr>\n",
       "    <tr>\n",
       "      <th>93138</th>\n",
       "      <td>1970-04-13 18:43:56</td>\n",
       "    </tr>\n",
       "    <tr>\n",
       "      <th>93139</th>\n",
       "      <td>1970-04-13 18:54:02</td>\n",
       "    </tr>\n",
       "    <tr>\n",
       "      <th>93140</th>\n",
       "      <td>1970-04-13 18:57:38</td>\n",
       "    </tr>\n",
       "    <tr>\n",
       "      <th>93141</th>\n",
       "      <td>1970-04-13 18:54:23</td>\n",
       "    </tr>\n",
       "  </tbody>\n",
       "</table>\n",
       "</div>"
      ],
      "text/plain": [
       "               login_time\n",
       "93137 1970-04-13 18:50:19\n",
       "93138 1970-04-13 18:43:56\n",
       "93139 1970-04-13 18:54:02\n",
       "93140 1970-04-13 18:57:38\n",
       "93141 1970-04-13 18:54:23"
      ]
     },
     "execution_count": 6,
     "metadata": {},
     "output_type": "execute_result"
    }
   ],
   "source": [
    "logins.tail()"
   ]
  },
  {
   "cell_type": "markdown",
   "metadata": {},
   "source": [
    "These dates say 1970 but they are most likely in 2014 based on the other dataset. We need to change these dates to in order to analyze how the day of the week affects logins."
   ]
  },
  {
   "cell_type": "code",
   "execution_count": 7,
   "metadata": {},
   "outputs": [
    {
     "data": {
      "text/html": [
       "<div>\n",
       "<style scoped>\n",
       "    .dataframe tbody tr th:only-of-type {\n",
       "        vertical-align: middle;\n",
       "    }\n",
       "\n",
       "    .dataframe tbody tr th {\n",
       "        vertical-align: top;\n",
       "    }\n",
       "\n",
       "    .dataframe thead th {\n",
       "        text-align: right;\n",
       "    }\n",
       "</style>\n",
       "<table border=\"1\" class=\"dataframe\">\n",
       "  <thead>\n",
       "    <tr style=\"text-align: right;\">\n",
       "      <th></th>\n",
       "      <th>login_time</th>\n",
       "    </tr>\n",
       "  </thead>\n",
       "  <tbody>\n",
       "    <tr>\n",
       "      <th>93137</th>\n",
       "      <td>2014-04-13 18:50:19</td>\n",
       "    </tr>\n",
       "    <tr>\n",
       "      <th>93138</th>\n",
       "      <td>2014-04-13 18:43:56</td>\n",
       "    </tr>\n",
       "    <tr>\n",
       "      <th>93139</th>\n",
       "      <td>2014-04-13 18:54:02</td>\n",
       "    </tr>\n",
       "    <tr>\n",
       "      <th>93140</th>\n",
       "      <td>2014-04-13 18:57:38</td>\n",
       "    </tr>\n",
       "    <tr>\n",
       "      <th>93141</th>\n",
       "      <td>2014-04-13 18:54:23</td>\n",
       "    </tr>\n",
       "  </tbody>\n",
       "</table>\n",
       "</div>"
      ],
      "text/plain": [
       "               login_time\n",
       "93137 2014-04-13 18:50:19\n",
       "93138 2014-04-13 18:43:56\n",
       "93139 2014-04-13 18:54:02\n",
       "93140 2014-04-13 18:57:38\n",
       "93141 2014-04-13 18:54:23"
      ]
     },
     "execution_count": 7,
     "metadata": {},
     "output_type": "execute_result"
    }
   ],
   "source": [
    "logins.login_time= logins.login_time.apply(lambda x:datetime(year=2014, month= x.month, \n",
    "                   day=x.day, hour=x.hour, minute=x.minute, second=x.second))\n",
    "\n",
    "logins.tail()"
   ]
  },
  {
   "cell_type": "code",
   "execution_count": 8,
   "metadata": {},
   "outputs": [
    {
     "data": {
      "image/png": "[encoded data removed]",
      "text/plain": [
       "<Figure size 432x288 with 1 Axes>"
      ]
     },
     "metadata": {
      "needs_background": "light"
     },
     "output_type": "display_data"
    }
   ],
   "source": [
    "inter=logins.groupby(logins.login_time).size().resample('15T').sum()\n",
    "inter.plot(x=inter.index,y=inter.values)\n",
    "plt.title('Number of Logins per 15 minute interval')\n",
    "plt.xlabel('Time of login')\n",
    "plt.ylabel('Number of logins')\n",
    "plt.show()"
   ]
  },
  {
   "cell_type": "code",
   "execution_count": 9,
   "metadata": {},
   "outputs": [
    {
     "data": {
      "image/png": "[encoded data removed]",
      "text/plain": [
       "<Figure size 432x288 with 1 Axes>"
      ]
     },
     "metadata": {
      "needs_background": "light"
     },
     "output_type": "display_data"
    }
   ],
   "source": [
    "daily=logins.groupby(logins.login_time).size().resample('1D').sum()\n",
    "daily.plot(x=daily.index,y=daily.values)\n",
    "plt.xlabel('Time of login')\n",
    "plt.ylabel('Number of Logins')\n",
    "plt.title('Number of Daily Logins')\n",
    "plt.show()"
   ]
  },
  {
   "cell_type": "code",
   "execution_count": 10,
   "metadata": {},
   "outputs": [],
   "source": [
    "def weekday(cell):\n",
    "    new=cell.weekday()\n",
    "    if new==0:\n",
    "        new='Mon'\n",
    "    if new==1:\n",
    "        new='Tues'\n",
    "    if new==2:\n",
    "        new='Wed'\n",
    "    if new==3:\n",
    "        new='Thurs'\n",
    "    if new==4:\n",
    "        new='Fri'\n",
    "    if new==5:\n",
    "        new='Sat'\n",
    "    if new==6:\n",
    "        new='Sun'\n",
    "    return (new)\n",
    "\n",
    "dates= pd.Series(logins['login_time'])\n",
    "weekdays=dates.apply(weekday)\n"
   ]
  },
  {
   "cell_type": "code",
   "execution_count": 11,
   "metadata": {},
   "outputs": [
    {
     "data": {
      "image/png": "[encoded data removed]",
      "text/plain": [
       "<Figure size 432x288 with 1 Axes>"
      ]
     },
     "metadata": {
      "needs_background": "light"
     },
     "output_type": "display_data"
    }
   ],
   "source": [
    "sns.barplot(x=weekdays.value_counts().index, y=weekdays.value_counts().values)\n",
    "plt.title('Logins by day of the Week')\n",
    "plt.show()"
   ]
  },
  {
   "cell_type": "code",
   "execution_count": 12,
   "metadata": {},
   "outputs": [
    {
     "data": {
      "image/png": "[encoded data removed]",
      "text/plain": [
       "<Figure size 432x288 with 1 Axes>"
      ]
     },
     "metadata": {
      "needs_background": "light"
     },
     "output_type": "display_data"
    }
   ],
   "source": [
    "hours= inter.groupby(inter.index.hour).sum()\n",
    "sns.barplot(x=hours.index, y= hours.values)\n",
    "plt.xlabel('Time of Day')\n",
    "plt.ylabel('Total number of logins')\n",
    "plt.title('Number of total Logins by hour')\n",
    "plt.show()"
   ]
  },
  {
   "cell_type": "markdown",
   "metadata": {},
   "source": [
    "The day to day demand for rides appears to fluctuate dramatically. Demand for rides peak on Friday and Saturday while it is at its lowest on sundays. Riders appear to use the service when they are going out as evidenced by the increased reletive use between the hours of 9pm and 2am. "
   ]
  },
  {
   "cell_type": "markdown",
   "metadata": {},
   "source": [
    "Part Two"
   ]
  },
  {
   "cell_type": "markdown",
   "metadata": {},
   "source": [
    "1. Assumng we are using just the login data, the best measure would be the difference in means between day and night. This could be coded by resampling to every 6 hours and combining the 6am-12pm and the 12pm-6pm for day time and the other two for night. Comparing the difference in means for before and after the policy change should show its effectiveness. If the difference is closer to zero it shows that drivers are going across the bridge because they are logging in when previously they would not. Additionally I would eliminate the weekend data from this experiment because the two cities have similar traffic during that time which may confound my results. \n",
    "\n",
    "2. If I were performing this experiment I would use an A/B test where some drivers would have tolls reimbursed and other would have to pay them on their own. I believe permutation sampling with replacement would be ideal in this situation because it would show us whether the changes in the mean were due to randomness or if a substantial change had been made. As previously stated the closer the absolute difference between the numbers is to zero the more effective the policy is in getting drivers across the bridge. One caveat is obviously that we are not measuring where the drivers are coming from or going so it is possible that increased logins could be due to special events in the area or other factors. A more ideal measure would be the distance each driver travels because it would be reasonable for that number to be larger with free tolls. "
   ]
  },
  {
   "cell_type": "markdown",
   "metadata": {},
   "source": [
    "Part 3"
   ]
  },
  {
   "cell_type": "code",
   "execution_count": 13,
   "metadata": {
    "scrolled": false
   },
   "outputs": [
    {
     "data": {
      "text/html": [
       "<div>\n",
       "<style scoped>\n",
       "    .dataframe tbody tr th:only-of-type {\n",
       "        vertical-align: middle;\n",
       "    }\n",
       "\n",
       "    .dataframe tbody tr th {\n",
       "        vertical-align: top;\n",
       "    }\n",
       "\n",
       "    .dataframe thead th {\n",
       "        text-align: right;\n",
       "    }\n",
       "</style>\n",
       "<table border=\"1\" class=\"dataframe\">\n",
       "  <thead>\n",
       "    <tr style=\"text-align: right;\">\n",
       "      <th></th>\n",
       "      <th>avg_dist</th>\n",
       "      <th>avg_rating_by_driver</th>\n",
       "      <th>avg_rating_of_driver</th>\n",
       "      <th>avg_surge</th>\n",
       "      <th>city</th>\n",
       "      <th>last_trip_date</th>\n",
       "      <th>phone</th>\n",
       "      <th>signup_date</th>\n",
       "      <th>surge_pct</th>\n",
       "      <th>trips_in_first_30_days</th>\n",
       "      <th>ultimate_black_user</th>\n",
       "      <th>weekday_pct</th>\n",
       "    </tr>\n",
       "  </thead>\n",
       "  <tbody>\n",
       "    <tr>\n",
       "      <th>0</th>\n",
       "      <td>3.67</td>\n",
       "      <td>5.0</td>\n",
       "      <td>4.7</td>\n",
       "      <td>1.10</td>\n",
       "      <td>King's Landing</td>\n",
       "      <td>2014-06-17</td>\n",
       "      <td>iPhone</td>\n",
       "      <td>2014-01-25</td>\n",
       "      <td>15.4</td>\n",
       "      <td>4</td>\n",
       "      <td>True</td>\n",
       "      <td>46.2</td>\n",
       "    </tr>\n",
       "    <tr>\n",
       "      <th>1</th>\n",
       "      <td>8.26</td>\n",
       "      <td>5.0</td>\n",
       "      <td>5.0</td>\n",
       "      <td>1.00</td>\n",
       "      <td>Astapor</td>\n",
       "      <td>2014-05-05</td>\n",
       "      <td>Android</td>\n",
       "      <td>2014-01-29</td>\n",
       "      <td>0.0</td>\n",
       "      <td>0</td>\n",
       "      <td>False</td>\n",
       "      <td>50.0</td>\n",
       "    </tr>\n",
       "    <tr>\n",
       "      <th>2</th>\n",
       "      <td>0.77</td>\n",
       "      <td>5.0</td>\n",
       "      <td>4.3</td>\n",
       "      <td>1.00</td>\n",
       "      <td>Astapor</td>\n",
       "      <td>2014-01-07</td>\n",
       "      <td>iPhone</td>\n",
       "      <td>2014-01-06</td>\n",
       "      <td>0.0</td>\n",
       "      <td>3</td>\n",
       "      <td>False</td>\n",
       "      <td>100.0</td>\n",
       "    </tr>\n",
       "    <tr>\n",
       "      <th>3</th>\n",
       "      <td>2.36</td>\n",
       "      <td>4.9</td>\n",
       "      <td>4.6</td>\n",
       "      <td>1.14</td>\n",
       "      <td>King's Landing</td>\n",
       "      <td>2014-06-29</td>\n",
       "      <td>iPhone</td>\n",
       "      <td>2014-01-10</td>\n",
       "      <td>20.0</td>\n",
       "      <td>9</td>\n",
       "      <td>True</td>\n",
       "      <td>80.0</td>\n",
       "    </tr>\n",
       "    <tr>\n",
       "      <th>4</th>\n",
       "      <td>3.13</td>\n",
       "      <td>4.9</td>\n",
       "      <td>4.4</td>\n",
       "      <td>1.19</td>\n",
       "      <td>Winterfell</td>\n",
       "      <td>2014-03-15</td>\n",
       "      <td>Android</td>\n",
       "      <td>2014-01-27</td>\n",
       "      <td>11.8</td>\n",
       "      <td>14</td>\n",
       "      <td>False</td>\n",
       "      <td>82.4</td>\n",
       "    </tr>\n",
       "  </tbody>\n",
       "</table>\n",
       "</div>"
      ],
      "text/plain": [
       "   avg_dist  avg_rating_by_driver  avg_rating_of_driver  avg_surge  \\\n",
       "0      3.67                   5.0                   4.7       1.10   \n",
       "1      8.26                   5.0                   5.0       1.00   \n",
       "2      0.77                   5.0                   4.3       1.00   \n",
       "3      2.36                   4.9                   4.6       1.14   \n",
       "4      3.13                   4.9                   4.4       1.19   \n",
       "\n",
       "             city last_trip_date    phone signup_date  surge_pct  \\\n",
       "0  King's Landing     2014-06-17   iPhone  2014-01-25       15.4   \n",
       "1         Astapor     2014-05-05  Android  2014-01-29        0.0   \n",
       "2         Astapor     2014-01-07   iPhone  2014-01-06        0.0   \n",
       "3  King's Landing     2014-06-29   iPhone  2014-01-10       20.0   \n",
       "4      Winterfell     2014-03-15  Android  2014-01-27       11.8   \n",
       "\n",
       "   trips_in_first_30_days  ultimate_black_user  weekday_pct  \n",
       "0                       4                 True         46.2  \n",
       "1                       0                False         50.0  \n",
       "2                       3                False        100.0  \n",
       "3                       9                 True         80.0  \n",
       "4                      14                False         82.4  "
      ]
     },
     "execution_count": 13,
     "metadata": {},
     "output_type": "execute_result"
    }
   ],
   "source": [
    "ulti_df.head()"
   ]
  },
  {
   "cell_type": "code",
   "execution_count": 14,
   "metadata": {},
   "outputs": [
    {
     "name": "stdout",
     "output_type": "stream",
     "text": [
      "<class 'pandas.core.frame.DataFrame'>\n",
      "RangeIndex: 50000 entries, 0 to 49999\n",
      "Data columns (total 12 columns):\n",
      "avg_dist                  50000 non-null float64\n",
      "avg_rating_by_driver      49799 non-null float64\n",
      "avg_rating_of_driver      41878 non-null float64\n",
      "avg_surge                 50000 non-null float64\n",
      "city                      50000 non-null object\n",
      "last_trip_date            50000 non-null object\n",
      "phone                     49604 non-null object\n",
      "signup_date               50000 non-null object\n",
      "surge_pct                 50000 non-null float64\n",
      "trips_in_first_30_days    50000 non-null int64\n",
      "ultimate_black_user       50000 non-null bool\n",
      "weekday_pct               50000 non-null float64\n",
      "dtypes: bool(1), float64(6), int64(1), object(4)\n",
      "memory usage: 4.2+ MB\n"
     ]
    }
   ],
   "source": [
    "ulti_df.info()"
   ]
  },
  {
   "cell_type": "code",
   "execution_count": 15,
   "metadata": {},
   "outputs": [
    {
     "data": {
      "text/plain": [
       "avg_dist                     0\n",
       "avg_rating_by_driver       201\n",
       "avg_rating_of_driver      8122\n",
       "avg_surge                    0\n",
       "city                         0\n",
       "last_trip_date               0\n",
       "phone                      396\n",
       "signup_date                  0\n",
       "surge_pct                    0\n",
       "trips_in_first_30_days       0\n",
       "ultimate_black_user          0\n",
       "weekday_pct                  0\n",
       "dtype: int64"
      ]
     },
     "execution_count": 15,
     "metadata": {},
     "output_type": "execute_result"
    }
   ],
   "source": [
    "ulti_df.isnull().sum()"
   ]
  },
  {
   "cell_type": "code",
   "execution_count": 16,
   "metadata": {
    "scrolled": false
   },
   "outputs": [
    {
     "data": {
      "text/plain": [
       "avg_dist                  0\n",
       "avg_rating_by_driver      0\n",
       "avg_rating_of_driver      0\n",
       "avg_surge                 0\n",
       "city                      0\n",
       "last_trip_date            0\n",
       "phone                     0\n",
       "signup_date               0\n",
       "surge_pct                 0\n",
       "trips_in_first_30_days    0\n",
       "ultimate_black_user       0\n",
       "weekday_pct               0\n",
       "dtype: int64"
      ]
     },
     "execution_count": 16,
     "metadata": {},
     "output_type": "execute_result"
    }
   ],
   "source": [
    "ulti_df=ulti_df[ulti_df.avg_rating_by_driver.notnull()\n",
    "                & ulti_df.avg_rating_of_driver.notnull()]\n",
    "ulti_df['phone']=ulti_df['phone'].fillna('Computer')\n",
    "ulti_df.isnull().sum()"
   ]
  },
  {
   "cell_type": "code",
   "execution_count": 17,
   "metadata": {},
   "outputs": [
    {
     "data": {
      "text/plain": [
       "Timestamp('2014-07-01 00:00:00')"
      ]
     },
     "execution_count": 17,
     "metadata": {},
     "output_type": "execute_result"
    }
   ],
   "source": [
    "ulti_df.last_trip_date=ulti_df.last_trip_date.astype('datetime64')\n",
    "ulti_df.signup_date=ulti_df.signup_date.astype('datetime64')\n",
    "ulti_df.last_trip_date.max()"
   ]
  },
  {
   "cell_type": "code",
   "execution_count": 18,
   "metadata": {
    "scrolled": true
   },
   "outputs": [
    {
     "data": {
      "text/plain": [
       "<matplotlib.axes._subplots.AxesSubplot at 0x1a1662abd0>"
      ]
     },
     "execution_count": 18,
     "metadata": {},
     "output_type": "execute_result"
    },
    {
     "data": {
      "image/png": "[encoded data removed]",
      "text/plain": [
       "<Figure size 432x288 with 1 Axes>"
      ]
     },
     "metadata": {
      "needs_background": "light"
     },
     "output_type": "display_data"
    }
   ],
   "source": [
    "df_time=ulti_df[['signup_date', 'last_trip_date']].copy()\n",
    "df_time['count']=1\n",
    "df_time=df_time.set_index('signup_date')\n",
    "df_time['count'].resample('1D').sum().plot()"
   ]
  },
  {
   "cell_type": "code",
   "execution_count": 19,
   "metadata": {
    "scrolled": true
   },
   "outputs": [
    {
     "data": {
      "text/plain": [
       "<matplotlib.axes._subplots.AxesSubplot at 0x1a16603590>"
      ]
     },
     "execution_count": 19,
     "metadata": {},
     "output_type": "execute_result"
    },
    {
     "data": {
      "image/png": "[encoded data removed]",
      "text/plain": [
       "<Figure size 432x288 with 1 Axes>"
      ]
     },
     "metadata": {
      "needs_background": "light"
     },
     "output_type": "display_data"
    }
   ],
   "source": [
    "df_time=df_time.set_index('last_trip_date')\n",
    "df_time['count'].resample('1D').sum().plot()"
   ]
  },
  {
   "cell_type": "markdown",
   "metadata": {},
   "source": [
    "It appears that most users last trip was in june. This is most likely because the data was collected in july. We will count these users as retained. It may be insightful to include a retention length variable as well."
   ]
  },
  {
   "cell_type": "code",
   "execution_count": 20,
   "metadata": {},
   "outputs": [],
   "source": [
    "ret_len=(ulti_df.last_trip_date-\n",
    "                    ulti_df.signup_date)\n",
    "\n",
    "ulti_df['ret_len']= ret_len.apply(lambda x: x.days)"
   ]
  },
  {
   "cell_type": "code",
   "execution_count": 21,
   "metadata": {},
   "outputs": [],
   "source": [
    "retained= ulti_df.last_trip_date>='2014-06-01'\n",
    "ulti_df['retained']= retained.astype('int')\n"
   ]
  },
  {
   "cell_type": "code",
   "execution_count": 22,
   "metadata": {},
   "outputs": [],
   "source": [
    "ulti_df['signup_weekday']= ulti_df['signup_date'].apply(weekday)\n"
   ]
  },
  {
   "cell_type": "code",
   "execution_count": 23,
   "metadata": {},
   "outputs": [
    {
     "data": {
      "text/html": [
       "<div>\n",
       "<style scoped>\n",
       "    .dataframe tbody tr th:only-of-type {\n",
       "        vertical-align: middle;\n",
       "    }\n",
       "\n",
       "    .dataframe tbody tr th {\n",
       "        vertical-align: top;\n",
       "    }\n",
       "\n",
       "    .dataframe thead th {\n",
       "        text-align: right;\n",
       "    }\n",
       "</style>\n",
       "<table border=\"1\" class=\"dataframe\">\n",
       "  <thead>\n",
       "    <tr style=\"text-align: right;\">\n",
       "      <th></th>\n",
       "      <th>avg_dist</th>\n",
       "      <th>avg_rating_by_driver</th>\n",
       "      <th>avg_rating_of_driver</th>\n",
       "      <th>avg_surge</th>\n",
       "      <th>surge_pct</th>\n",
       "      <th>trips_in_first_30_days</th>\n",
       "      <th>weekday_pct</th>\n",
       "      <th>ret_len</th>\n",
       "      <th>retained</th>\n",
       "    </tr>\n",
       "  </thead>\n",
       "  <tbody>\n",
       "    <tr>\n",
       "      <th>count</th>\n",
       "      <td>41744.000000</td>\n",
       "      <td>41744.000000</td>\n",
       "      <td>41744.000000</td>\n",
       "      <td>41744.000000</td>\n",
       "      <td>41744.000000</td>\n",
       "      <td>41744.000000</td>\n",
       "      <td>41744.000000</td>\n",
       "      <td>41744.000000</td>\n",
       "      <td>41744.000000</td>\n",
       "    </tr>\n",
       "    <tr>\n",
       "      <th>mean</th>\n",
       "      <td>5.465312</td>\n",
       "      <td>4.776648</td>\n",
       "      <td>4.601801</td>\n",
       "      <td>1.073697</td>\n",
       "      <td>8.884695</td>\n",
       "      <td>2.611393</td>\n",
       "      <td>61.304437</td>\n",
       "      <td>98.049324</td>\n",
       "      <td>0.411029</td>\n",
       "    </tr>\n",
       "    <tr>\n",
       "      <th>std</th>\n",
       "      <td>5.149810</td>\n",
       "      <td>0.404109</td>\n",
       "      <td>0.616079</td>\n",
       "      <td>0.198681</td>\n",
       "      <td>18.309042</td>\n",
       "      <td>4.060121</td>\n",
       "      <td>34.799944</td>\n",
       "      <td>61.229764</td>\n",
       "      <td>0.492026</td>\n",
       "    </tr>\n",
       "    <tr>\n",
       "      <th>min</th>\n",
       "      <td>0.000000</td>\n",
       "      <td>1.000000</td>\n",
       "      <td>1.000000</td>\n",
       "      <td>1.000000</td>\n",
       "      <td>0.000000</td>\n",
       "      <td>0.000000</td>\n",
       "      <td>0.000000</td>\n",
       "      <td>0.000000</td>\n",
       "      <td>0.000000</td>\n",
       "    </tr>\n",
       "    <tr>\n",
       "      <th>25%</th>\n",
       "      <td>2.420000</td>\n",
       "      <td>4.700000</td>\n",
       "      <td>4.300000</td>\n",
       "      <td>1.000000</td>\n",
       "      <td>0.000000</td>\n",
       "      <td>0.000000</td>\n",
       "      <td>37.500000</td>\n",
       "      <td>38.000000</td>\n",
       "      <td>0.000000</td>\n",
       "    </tr>\n",
       "    <tr>\n",
       "      <th>50%</th>\n",
       "      <td>3.790000</td>\n",
       "      <td>5.000000</td>\n",
       "      <td>4.900000</td>\n",
       "      <td>1.000000</td>\n",
       "      <td>0.000000</td>\n",
       "      <td>1.000000</td>\n",
       "      <td>66.700000</td>\n",
       "      <td>118.000000</td>\n",
       "      <td>0.000000</td>\n",
       "    </tr>\n",
       "    <tr>\n",
       "      <th>75%</th>\n",
       "      <td>6.490000</td>\n",
       "      <td>5.000000</td>\n",
       "      <td>5.000000</td>\n",
       "      <td>1.070000</td>\n",
       "      <td>11.100000</td>\n",
       "      <td>3.000000</td>\n",
       "      <td>100.000000</td>\n",
       "      <td>152.000000</td>\n",
       "      <td>1.000000</td>\n",
       "    </tr>\n",
       "    <tr>\n",
       "      <th>max</th>\n",
       "      <td>79.690000</td>\n",
       "      <td>5.000000</td>\n",
       "      <td>5.000000</td>\n",
       "      <td>8.000000</td>\n",
       "      <td>100.000000</td>\n",
       "      <td>125.000000</td>\n",
       "      <td>100.000000</td>\n",
       "      <td>181.000000</td>\n",
       "      <td>1.000000</td>\n",
       "    </tr>\n",
       "  </tbody>\n",
       "</table>\n",
       "</div>"
      ],
      "text/plain": [
       "           avg_dist  avg_rating_by_driver  avg_rating_of_driver     avg_surge  \\\n",
       "count  41744.000000          41744.000000          41744.000000  41744.000000   \n",
       "mean       5.465312              4.776648              4.601801      1.073697   \n",
       "std        5.149810              0.404109              0.616079      0.198681   \n",
       "min        0.000000              1.000000              1.000000      1.000000   \n",
       "25%        2.420000              4.700000              4.300000      1.000000   \n",
       "50%        3.790000              5.000000              4.900000      1.000000   \n",
       "75%        6.490000              5.000000              5.000000      1.070000   \n",
       "max       79.690000              5.000000              5.000000      8.000000   \n",
       "\n",
       "          surge_pct  trips_in_first_30_days   weekday_pct       ret_len  \\\n",
       "count  41744.000000            41744.000000  41744.000000  41744.000000   \n",
       "mean       8.884695                2.611393     61.304437     98.049324   \n",
       "std       18.309042                4.060121     34.799944     61.229764   \n",
       "min        0.000000                0.000000      0.000000      0.000000   \n",
       "25%        0.000000                0.000000     37.500000     38.000000   \n",
       "50%        0.000000                1.000000     66.700000    118.000000   \n",
       "75%       11.100000                3.000000    100.000000    152.000000   \n",
       "max      100.000000              125.000000    100.000000    181.000000   \n",
       "\n",
       "           retained  \n",
       "count  41744.000000  \n",
       "mean       0.411029  \n",
       "std        0.492026  \n",
       "min        0.000000  \n",
       "25%        0.000000  \n",
       "50%        0.000000  \n",
       "75%        1.000000  \n",
       "max        1.000000  "
      ]
     },
     "execution_count": 23,
     "metadata": {},
     "output_type": "execute_result"
    }
   ],
   "source": [
    "ulti_df.describe()"
   ]
  },
  {
   "cell_type": "code",
   "execution_count": 24,
   "metadata": {
    "scrolled": true
   },
   "outputs": [
    {
     "data": {
      "text/plain": [
       "<matplotlib.axes._subplots.AxesSubplot at 0x1a15e2a590>"
      ]
     },
     "execution_count": 24,
     "metadata": {},
     "output_type": "execute_result"
    },
    {
     "data": {
      "image/png": "[encoded data removed]",
      "text/plain": [
       "<Figure size 432x288 with 2 Axes>"
      ]
     },
     "metadata": {
      "needs_background": "light"
     },
     "output_type": "display_data"
    }
   ],
   "source": [
    "#Lets see what factors are most highly correlated\n",
    "cor=ulti_df.corr()\n",
    "sns.heatmap(cor, square=True, cmap=\"coolwarm\", linewidth=.5, vmin=-1, vmax=1)"
   ]
  },
  {
   "cell_type": "code",
   "execution_count": 25,
   "metadata": {
    "scrolled": true
   },
   "outputs": [
    {
     "data": {
      "text/html": [
       "<div>\n",
       "<style scoped>\n",
       "    .dataframe tbody tr th:only-of-type {\n",
       "        vertical-align: middle;\n",
       "    }\n",
       "\n",
       "    .dataframe tbody tr th {\n",
       "        vertical-align: top;\n",
       "    }\n",
       "\n",
       "    .dataframe thead th {\n",
       "        text-align: right;\n",
       "    }\n",
       "</style>\n",
       "<table border=\"1\" class=\"dataframe\">\n",
       "  <thead>\n",
       "    <tr style=\"text-align: right;\">\n",
       "      <th></th>\n",
       "      <th>avg_dist</th>\n",
       "      <th>avg_rating_by_driver</th>\n",
       "      <th>avg_rating_of_driver</th>\n",
       "      <th>avg_surge</th>\n",
       "      <th>surge_pct</th>\n",
       "      <th>trips_in_first_30_days</th>\n",
       "      <th>ultimate_black_user</th>\n",
       "      <th>weekday_pct</th>\n",
       "      <th>ret_len</th>\n",
       "      <th>retained</th>\n",
       "    </tr>\n",
       "  </thead>\n",
       "  <tbody>\n",
       "    <tr>\n",
       "      <th>avg_dist</th>\n",
       "      <td>1.000000</td>\n",
       "      <td>0.083869</td>\n",
       "      <td>0.034806</td>\n",
       "      <td>-0.085768</td>\n",
       "      <td>-0.111075</td>\n",
       "      <td>-0.136301</td>\n",
       "      <td>0.026552</td>\n",
       "      <td>0.102703</td>\n",
       "      <td>-0.110686</td>\n",
       "      <td>-0.090240</td>\n",
       "    </tr>\n",
       "    <tr>\n",
       "      <th>avg_rating_by_driver</th>\n",
       "      <td>0.083869</td>\n",
       "      <td>1.000000</td>\n",
       "      <td>0.123175</td>\n",
       "      <td>0.012171</td>\n",
       "      <td>0.019316</td>\n",
       "      <td>-0.045916</td>\n",
       "      <td>0.005553</td>\n",
       "      <td>0.019141</td>\n",
       "      <td>-0.048657</td>\n",
       "      <td>-0.035185</td>\n",
       "    </tr>\n",
       "    <tr>\n",
       "      <th>avg_rating_of_driver</th>\n",
       "      <td>0.034806</td>\n",
       "      <td>0.123175</td>\n",
       "      <td>1.000000</td>\n",
       "      <td>-0.022229</td>\n",
       "      <td>-0.001822</td>\n",
       "      <td>-0.011546</td>\n",
       "      <td>-0.002628</td>\n",
       "      <td>0.013673</td>\n",
       "      <td>-0.017432</td>\n",
       "      <td>-0.012084</td>\n",
       "    </tr>\n",
       "    <tr>\n",
       "      <th>avg_surge</th>\n",
       "      <td>-0.085768</td>\n",
       "      <td>0.012171</td>\n",
       "      <td>-0.022229</td>\n",
       "      <td>1.000000</td>\n",
       "      <td>0.795758</td>\n",
       "      <td>-0.000306</td>\n",
       "      <td>-0.071582</td>\n",
       "      <td>-0.118818</td>\n",
       "      <td>-0.013630</td>\n",
       "      <td>-0.003565</td>\n",
       "    </tr>\n",
       "    <tr>\n",
       "      <th>surge_pct</th>\n",
       "      <td>-0.111075</td>\n",
       "      <td>0.019316</td>\n",
       "      <td>-0.001822</td>\n",
       "      <td>0.795758</td>\n",
       "      <td>1.000000</td>\n",
       "      <td>0.005371</td>\n",
       "      <td>-0.100878</td>\n",
       "      <td>-0.154953</td>\n",
       "      <td>0.007608</td>\n",
       "      <td>0.011384</td>\n",
       "    </tr>\n",
       "    <tr>\n",
       "      <th>trips_in_first_30_days</th>\n",
       "      <td>-0.136301</td>\n",
       "      <td>-0.045916</td>\n",
       "      <td>-0.011546</td>\n",
       "      <td>-0.000306</td>\n",
       "      <td>0.005371</td>\n",
       "      <td>1.000000</td>\n",
       "      <td>0.115334</td>\n",
       "      <td>0.054933</td>\n",
       "      <td>0.157306</td>\n",
       "      <td>0.198715</td>\n",
       "    </tr>\n",
       "    <tr>\n",
       "      <th>ultimate_black_user</th>\n",
       "      <td>0.026552</td>\n",
       "      <td>0.005553</td>\n",
       "      <td>-0.002628</td>\n",
       "      <td>-0.071582</td>\n",
       "      <td>-0.100878</td>\n",
       "      <td>0.115334</td>\n",
       "      <td>1.000000</td>\n",
       "      <td>0.033930</td>\n",
       "      <td>0.183450</td>\n",
       "      <td>0.216429</td>\n",
       "    </tr>\n",
       "    <tr>\n",
       "      <th>weekday_pct</th>\n",
       "      <td>0.102703</td>\n",
       "      <td>0.019141</td>\n",
       "      <td>0.013673</td>\n",
       "      <td>-0.118818</td>\n",
       "      <td>-0.154953</td>\n",
       "      <td>0.054933</td>\n",
       "      <td>0.033930</td>\n",
       "      <td>1.000000</td>\n",
       "      <td>0.015797</td>\n",
       "      <td>0.010368</td>\n",
       "    </tr>\n",
       "    <tr>\n",
       "      <th>ret_len</th>\n",
       "      <td>-0.110686</td>\n",
       "      <td>-0.048657</td>\n",
       "      <td>-0.017432</td>\n",
       "      <td>-0.013630</td>\n",
       "      <td>0.007608</td>\n",
       "      <td>0.157306</td>\n",
       "      <td>0.183450</td>\n",
       "      <td>0.015797</td>\n",
       "      <td>1.000000</td>\n",
       "      <td>0.783174</td>\n",
       "    </tr>\n",
       "    <tr>\n",
       "      <th>retained</th>\n",
       "      <td>-0.090240</td>\n",
       "      <td>-0.035185</td>\n",
       "      <td>-0.012084</td>\n",
       "      <td>-0.003565</td>\n",
       "      <td>0.011384</td>\n",
       "      <td>0.198715</td>\n",
       "      <td>0.216429</td>\n",
       "      <td>0.010368</td>\n",
       "      <td>0.783174</td>\n",
       "      <td>1.000000</td>\n",
       "    </tr>\n",
       "  </tbody>\n",
       "</table>\n",
       "</div>"
      ],
      "text/plain": [
       "                        avg_dist  avg_rating_by_driver  avg_rating_of_driver  \\\n",
       "avg_dist                1.000000              0.083869              0.034806   \n",
       "avg_rating_by_driver    0.083869              1.000000              0.123175   \n",
       "avg_rating_of_driver    0.034806              0.123175              1.000000   \n",
       "avg_surge              -0.085768              0.012171             -0.022229   \n",
       "surge_pct              -0.111075              0.019316             -0.001822   \n",
       "trips_in_first_30_days -0.136301             -0.045916             -0.011546   \n",
       "ultimate_black_user     0.026552              0.005553             -0.002628   \n",
       "weekday_pct             0.102703              0.019141              0.013673   \n",
       "ret_len                -0.110686             -0.048657             -0.017432   \n",
       "retained               -0.090240             -0.035185             -0.012084   \n",
       "\n",
       "                        avg_surge  surge_pct  trips_in_first_30_days  \\\n",
       "avg_dist                -0.085768  -0.111075               -0.136301   \n",
       "avg_rating_by_driver     0.012171   0.019316               -0.045916   \n",
       "avg_rating_of_driver    -0.022229  -0.001822               -0.011546   \n",
       "avg_surge                1.000000   0.795758               -0.000306   \n",
       "surge_pct                0.795758   1.000000                0.005371   \n",
       "trips_in_first_30_days  -0.000306   0.005371                1.000000   \n",
       "ultimate_black_user     -0.071582  -0.100878                0.115334   \n",
       "weekday_pct             -0.118818  -0.154953                0.054933   \n",
       "ret_len                 -0.013630   0.007608                0.157306   \n",
       "retained                -0.003565   0.011384                0.198715   \n",
       "\n",
       "                        ultimate_black_user  weekday_pct   ret_len  retained  \n",
       "avg_dist                           0.026552     0.102703 -0.110686 -0.090240  \n",
       "avg_rating_by_driver               0.005553     0.019141 -0.048657 -0.035185  \n",
       "avg_rating_of_driver              -0.002628     0.013673 -0.017432 -0.012084  \n",
       "avg_surge                         -0.071582    -0.118818 -0.013630 -0.003565  \n",
       "surge_pct                         -0.100878    -0.154953  0.007608  0.011384  \n",
       "trips_in_first_30_days             0.115334     0.054933  0.157306  0.198715  \n",
       "ultimate_black_user                1.000000     0.033930  0.183450  0.216429  \n",
       "weekday_pct                        0.033930     1.000000  0.015797  0.010368  \n",
       "ret_len                            0.183450     0.015797  1.000000  0.783174  \n",
       "retained                           0.216429     0.010368  0.783174  1.000000  "
      ]
     },
     "execution_count": 25,
     "metadata": {},
     "output_type": "execute_result"
    }
   ],
   "source": [
    "cor"
   ]
  },
  {
   "cell_type": "markdown",
   "metadata": {},
   "source": [
    "The variables most correlated with retention and retention length are ultimate_black_users and trips_in_first_30_days. Both of these make sense. Users ordering black cars are probably more avid users of the service and are more likely to have a good expirience in the pricier car. Alot of use in the first 30 days active shows that a user had a real need for the platform. Average distance also had a reletively strong negative effect. This may reflect people who used the app to make long infrequent trips. It could also be that people with longer trips have more oppuritunity to have a bad expirience with their driver. Next lets look at our categorical variables."
   ]
  },
  {
   "cell_type": "code",
   "execution_count": 26,
   "metadata": {},
   "outputs": [
    {
     "data": {
      "text/plain": [
       "<matplotlib.axes._subplots.AxesSubplot at 0x1a16603b10>"
      ]
     },
     "execution_count": 26,
     "metadata": {},
     "output_type": "execute_result"
    },
    {
     "data": {
      "image/png": "[encoded data removed]",
      "text/plain": [
       "<Figure size 432x288 with 1 Axes>"
      ]
     },
     "metadata": {
      "needs_background": "light"
     },
     "output_type": "display_data"
    }
   ],
   "source": [
    "\n",
    "ulti_df[['phone','retained']].groupby('phone').mean().plot(kind='bar')"
   ]
  },
  {
   "cell_type": "code",
   "execution_count": 27,
   "metadata": {
    "scrolled": true
   },
   "outputs": [
    {
     "data": {
      "text/plain": [
       "<matplotlib.axes._subplots.AxesSubplot at 0x1a16117a10>"
      ]
     },
     "execution_count": 27,
     "metadata": {},
     "output_type": "execute_result"
    },
    {
     "data": {
      "image/png": "[encoded data removed]",
      "text/plain": [
       "<Figure size 432x288 with 1 Axes>"
      ]
     },
     "metadata": {
      "needs_background": "light"
     },
     "output_type": "display_data"
    }
   ],
   "source": [
    "ulti_df[['city','retained']].groupby('city').mean().plot(kind='bar')"
   ]
  },
  {
   "cell_type": "code",
   "execution_count": 28,
   "metadata": {},
   "outputs": [
    {
     "data": {
      "text/plain": [
       "<matplotlib.axes._subplots.AxesSubplot at 0x1a165646d0>"
      ]
     },
     "execution_count": 28,
     "metadata": {},
     "output_type": "execute_result"
    },
    {
     "data": {
      "image/png": "[encoded data removed]",
      "text/plain": [
       "<Figure size 432x288 with 1 Axes>"
      ]
     },
     "metadata": {
      "needs_background": "light"
     },
     "output_type": "display_data"
    }
   ],
   "source": [
    "ulti_df[['ultimate_black_user','retained']].groupby('ultimate_black_user').mean().plot(kind='bar')"
   ]
  },
  {
   "cell_type": "code",
   "execution_count": 29,
   "metadata": {
    "scrolled": true
   },
   "outputs": [
    {
     "data": {
      "text/plain": [
       "<matplotlib.axes._subplots.AxesSubplot at 0x1a165c08d0>"
      ]
     },
     "execution_count": 29,
     "metadata": {},
     "output_type": "execute_result"
    },
    {
     "data": {
      "image/png": "[encoded data removed]",
      "text/plain": [
       "<Figure size 432x288 with 1 Axes>"
      ]
     },
     "metadata": {
      "needs_background": "light"
     },
     "output_type": "display_data"
    }
   ],
   "source": [
    "ulti_df[['signup_weekday','retained']].groupby('signup_weekday').mean().plot(kind='bar')"
   ]
  },
  {
   "cell_type": "markdown",
   "metadata": {},
   "source": [
    "It appears users from King's Landing are retained at higher rates than those from other cities. Additionally, iPhone users retain at higher rates than android users."
   ]
  },
  {
   "cell_type": "code",
   "execution_count": 30,
   "metadata": {
    "scrolled": true
   },
   "outputs": [
    {
     "data": {
      "text/html": [
       "<div>\n",
       "<style scoped>\n",
       "    .dataframe tbody tr th:only-of-type {\n",
       "        vertical-align: middle;\n",
       "    }\n",
       "\n",
       "    .dataframe tbody tr th {\n",
       "        vertical-align: top;\n",
       "    }\n",
       "\n",
       "    .dataframe thead th {\n",
       "        text-align: right;\n",
       "    }\n",
       "</style>\n",
       "<table border=\"1\" class=\"dataframe\">\n",
       "  <thead>\n",
       "    <tr style=\"text-align: right;\">\n",
       "      <th></th>\n",
       "      <th>avg_dist</th>\n",
       "      <th>avg_rating_by_driver</th>\n",
       "      <th>avg_rating_of_driver</th>\n",
       "      <th>avg_surge</th>\n",
       "      <th>surge_pct</th>\n",
       "      <th>trips_in_first_30_days</th>\n",
       "      <th>ultimate_black_user</th>\n",
       "      <th>weekday_pct</th>\n",
       "      <th>ret_len</th>\n",
       "    </tr>\n",
       "    <tr>\n",
       "      <th>retained</th>\n",
       "      <th></th>\n",
       "      <th></th>\n",
       "      <th></th>\n",
       "      <th></th>\n",
       "      <th></th>\n",
       "      <th></th>\n",
       "      <th></th>\n",
       "      <th></th>\n",
       "      <th></th>\n",
       "    </tr>\n",
       "  </thead>\n",
       "  <tbody>\n",
       "    <tr>\n",
       "      <th>0</th>\n",
       "      <td>5.853530</td>\n",
       "      <td>4.788526</td>\n",
       "      <td>4.608021</td>\n",
       "      <td>1.074288</td>\n",
       "      <td>8.710583</td>\n",
       "      <td>1.937403</td>\n",
       "      <td>0.297608</td>\n",
       "      <td>61.003018</td>\n",
       "      <td>57.989872</td>\n",
       "    </tr>\n",
       "    <tr>\n",
       "      <th>1</th>\n",
       "      <td>4.909027</td>\n",
       "      <td>4.759628</td>\n",
       "      <td>4.592890</td>\n",
       "      <td>1.072849</td>\n",
       "      <td>9.134182</td>\n",
       "      <td>3.577165</td>\n",
       "      <td>0.511715</td>\n",
       "      <td>61.736345</td>\n",
       "      <td>155.451218</td>\n",
       "    </tr>\n",
       "  </tbody>\n",
       "</table>\n",
       "</div>"
      ],
      "text/plain": [
       "          avg_dist  avg_rating_by_driver  avg_rating_of_driver  avg_surge  \\\n",
       "retained                                                                    \n",
       "0         5.853530              4.788526              4.608021   1.074288   \n",
       "1         4.909027              4.759628              4.592890   1.072849   \n",
       "\n",
       "          surge_pct  trips_in_first_30_days  ultimate_black_user  weekday_pct  \\\n",
       "retained                                                                        \n",
       "0          8.710583                1.937403             0.297608    61.003018   \n",
       "1          9.134182                3.577165             0.511715    61.736345   \n",
       "\n",
       "             ret_len  \n",
       "retained              \n",
       "0          57.989872  \n",
       "1         155.451218  "
      ]
     },
     "execution_count": 30,
     "metadata": {},
     "output_type": "execute_result"
    }
   ],
   "source": [
    "ulti_df.groupby('retained').mean()"
   ]
  },
  {
   "cell_type": "code",
   "execution_count": 31,
   "metadata": {},
   "outputs": [],
   "source": [
    "def ecdf(data):\n",
    "    '''Function gives the x and y of a cumulative distribution function'''\n",
    "    x= np.sort(np.array(data))\n",
    "    n=float(len(data))\n",
    "    y= (np.arange(1,n+1))/n\n",
    "    return x,y\n",
    "retained=ulti_df[ulti_df.retained==1]\n",
    "unretained=ulti_df[ulti_df.retained==0]"
   ]
  },
  {
   "cell_type": "code",
   "execution_count": 32,
   "metadata": {},
   "outputs": [
    {
     "data": {
      "image/png": "[encoded data removed]",
      "text/plain": [
       "<Figure size 432x288 with 1 Axes>"
      ]
     },
     "metadata": {
      "needs_background": "light"
     },
     "output_type": "display_data"
    }
   ],
   "source": [
    "ret_tripx, ret_tripy=ecdf(retained.trips_in_first_30_days)\n",
    "unret_tripx, unret_tripy=ecdf(unretained.trips_in_first_30_days)\n",
    "#Plot both lines\n",
    "plt.plot(ret_tripx,ret_tripy, color='red', linestyle='none', marker='.',)\n",
    "plt.plot(unret_tripx,unret_tripy, color='blue' , linestyle='none', marker='o', alpha=.1)\n",
    "#Label Axis\n",
    "plt.xlabel('Trips in first 30 days')\n",
    "plt.ylabel('Percentage under this level')\n",
    "plt.xlim(0,80)\n",
    "#Add Legend\n",
    "plt.legend(('Retained', 'Not Retained'),loc='lower right')\n",
    "plt.show()\n"
   ]
  },
  {
   "cell_type": "code",
   "execution_count": 33,
   "metadata": {},
   "outputs": [
    {
     "data": {
      "image/png": "[encoded data removed]",
      "text/plain": [
       "<Figure size 432x288 with 1 Axes>"
      ]
     },
     "metadata": {
      "needs_background": "light"
     },
     "output_type": "display_data"
    }
   ],
   "source": [
    "ret_distx, ret_disty=ecdf(retained.avg_dist)\n",
    "unret_distx, unret_disty=ecdf(unretained.avg_dist)\n",
    "#Plot both lines\n",
    "plt.plot(ret_distx,ret_disty, color='red', linestyle='none', marker='.',)\n",
    "plt.plot(unret_distx,unret_disty, color='blue' , linestyle='none', marker='o', alpha=.1)\n",
    "#Label Axis\n",
    "plt.xlabel('Average distance')\n",
    "plt.ylabel('Percentage under this level')\n",
    "plt.xlim(0,40)\n",
    "#Add Legend\n",
    "plt.legend(('Retained', 'Not Retained'),loc='lower right')\n",
    "plt.show()\n"
   ]
  },
  {
   "cell_type": "code",
   "execution_count": 34,
   "metadata": {
    "scrolled": true
   },
   "outputs": [
    {
     "data": {
      "image/png": "[encoded data removed]",
      "text/plain": [
       "<Figure size 432x288 with 1 Axes>"
      ]
     },
     "metadata": {
      "needs_background": "light"
     },
     "output_type": "display_data"
    }
   ],
   "source": [
    "ret_rrx, ret_rry=ecdf(retained.avg_rating_by_driver)\n",
    "unret_rrx, unret_rry=ecdf(unretained.avg_rating_by_driver)\n",
    "#Plot both lines\n",
    "plt.plot(ret_rrx,ret_rry, color='red', linestyle='none', marker='.',)\n",
    "plt.plot(unret_rrx,unret_rry, color='blue' , linestyle='none', marker='o', alpha=.05)\n",
    "#Label Axis\n",
    "plt.xlabel('Average Rider Rating')\n",
    "plt.ylabel('Percentage under this level')\n",
    "plt.ylim(.01)\n",
    "#Add Legend\n",
    "plt.legend(('Retained', 'Not Retained'),loc='upper left')\n",
    "plt.show()"
   ]
  },
  {
   "cell_type": "code",
   "execution_count": 35,
   "metadata": {
    "scrolled": true
   },
   "outputs": [
    {
     "data": {
      "image/png": "[encoded data removed]",
      "text/plain": [
       "<Figure size 432x288 with 1 Axes>"
      ]
     },
     "metadata": {
      "needs_background": "light"
     },
     "output_type": "display_data"
    }
   ],
   "source": [
    "ret_drx, ret_dry=ecdf(retained.avg_rating_of_driver)\n",
    "unret_drx, unret_dry=ecdf(unretained.avg_rating_of_driver)\n",
    "#Plot both lines\n",
    "plt.plot(ret_drx,ret_dry, color='red', linestyle='none', marker='.',)\n",
    "plt.plot(unret_drx,unret_dry, color='blue' , linestyle='none', marker='o', alpha=.05)\n",
    "#Label Axis\n",
    "plt.xlabel('Average Driver Rating')\n",
    "plt.ylabel('Percentage under this level')\n",
    "plt.ylim(.001)\n",
    "#Add Legend\n",
    "plt.legend(('Retained', 'Not Retained'),loc='upper left')\n",
    "plt.show()"
   ]
  },
  {
   "cell_type": "markdown",
   "metadata": {},
   "source": [
    "Unretained riders are more likely to give and get 5 star ratings but are also more likely to receive lower ratings. "
   ]
  },
  {
   "cell_type": "code",
   "execution_count": 36,
   "metadata": {
    "scrolled": true
   },
   "outputs": [
    {
     "data": {
      "image/png": "[encoded data removed]",
      "text/plain": [
       "<Figure size 432x288 with 1 Axes>"
      ]
     },
     "metadata": {
      "needs_background": "light"
     },
     "output_type": "display_data"
    }
   ],
   "source": [
    "ret_surgx, ret_surgy=ecdf(retained.surge_pct)\n",
    "unret_surgx, unret_surgy=ecdf(unretained.surge_pct)\n",
    "#Plot both lines\n",
    "plt.plot(ret_surgx,ret_surgy, color='red', linestyle='none', marker='.',)\n",
    "plt.plot(unret_surgx,unret_surgy, color='blue' , linestyle='none', marker='o', alpha=.1)\n",
    "#Label Axis\n",
    "plt.xlabel('Percentge of time a user encounters surge')\n",
    "plt.ylabel('Percentage under this level')\n",
    "\n",
    "#Add Legend\n",
    "plt.legend(('Retained', 'Not Retained'),loc='lower right')\n",
    "plt.show()"
   ]
  },
  {
   "cell_type": "code",
   "execution_count": 37,
   "metadata": {
    "scrolled": true
   },
   "outputs": [
    {
     "data": {
      "image/png": "[encoded data removed]",
      "text/plain": [
       "<Figure size 432x288 with 1 Axes>"
      ]
     },
     "metadata": {
      "needs_background": "light"
     },
     "output_type": "display_data"
    }
   ],
   "source": [
    "ret_surgmx, ret_surgmy=ecdf(retained.avg_surge)\n",
    "unret_surgmx, unret_surgmy=ecdf(unretained.avg_surge)\n",
    "#Plot both lines\n",
    "plt.plot(ret_surgmx,ret_surgmy, color='red', linestyle='none', marker='.',)\n",
    "plt.plot(unret_surgmx,unret_surgmy, color='blue' , linestyle='none', marker='o', alpha=.1)\n",
    "#Label Axis\n",
    "plt.xlabel('Average surge multiplier')\n",
    "plt.ylabel('Percentage under this level')\n",
    "\n",
    "#Add Legend\n",
    "plt.legend(('Retained', 'Not Retained'),loc='lower right')\n",
    "plt.show()"
   ]
  },
  {
   "cell_type": "markdown",
   "metadata": {},
   "source": [
    "While surge rarely affects users when it does it appears those users are less likely to be retained"
   ]
  },
  {
   "cell_type": "code",
   "execution_count": 38,
   "metadata": {},
   "outputs": [
    {
     "data": {
      "text/html": [
       "<div>\n",
       "<style scoped>\n",
       "    .dataframe tbody tr th:only-of-type {\n",
       "        vertical-align: middle;\n",
       "    }\n",
       "\n",
       "    .dataframe tbody tr th {\n",
       "        vertical-align: top;\n",
       "    }\n",
       "\n",
       "    .dataframe thead th {\n",
       "        text-align: right;\n",
       "    }\n",
       "</style>\n",
       "<table border=\"1\" class=\"dataframe\">\n",
       "  <thead>\n",
       "    <tr style=\"text-align: right;\">\n",
       "      <th></th>\n",
       "      <th>avg_dist</th>\n",
       "      <th>avg_rating_by_driver</th>\n",
       "      <th>avg_rating_of_driver</th>\n",
       "      <th>avg_surge</th>\n",
       "      <th>city</th>\n",
       "      <th>last_trip_date</th>\n",
       "      <th>phone</th>\n",
       "      <th>signup_date</th>\n",
       "      <th>surge_pct</th>\n",
       "      <th>trips_in_first_30_days</th>\n",
       "      <th>...</th>\n",
       "      <th>phone_Android</th>\n",
       "      <th>phone_Computer</th>\n",
       "      <th>phone_iPhone</th>\n",
       "      <th>signup_weekday_Fri</th>\n",
       "      <th>signup_weekday_Mon</th>\n",
       "      <th>signup_weekday_Sat</th>\n",
       "      <th>signup_weekday_Sun</th>\n",
       "      <th>signup_weekday_Thurs</th>\n",
       "      <th>signup_weekday_Tues</th>\n",
       "      <th>signup_weekday_Wed</th>\n",
       "    </tr>\n",
       "  </thead>\n",
       "  <tbody>\n",
       "    <tr>\n",
       "      <th>0</th>\n",
       "      <td>3.67</td>\n",
       "      <td>5.0</td>\n",
       "      <td>4.7</td>\n",
       "      <td>1.10</td>\n",
       "      <td>King's Landing</td>\n",
       "      <td>2014-06-17</td>\n",
       "      <td>iPhone</td>\n",
       "      <td>2014-01-25</td>\n",
       "      <td>15.4</td>\n",
       "      <td>4</td>\n",
       "      <td>...</td>\n",
       "      <td>0</td>\n",
       "      <td>0</td>\n",
       "      <td>1</td>\n",
       "      <td>0</td>\n",
       "      <td>0</td>\n",
       "      <td>1</td>\n",
       "      <td>0</td>\n",
       "      <td>0</td>\n",
       "      <td>0</td>\n",
       "      <td>0</td>\n",
       "    </tr>\n",
       "    <tr>\n",
       "      <th>1</th>\n",
       "      <td>8.26</td>\n",
       "      <td>5.0</td>\n",
       "      <td>5.0</td>\n",
       "      <td>1.00</td>\n",
       "      <td>Astapor</td>\n",
       "      <td>2014-05-05</td>\n",
       "      <td>Android</td>\n",
       "      <td>2014-01-29</td>\n",
       "      <td>0.0</td>\n",
       "      <td>0</td>\n",
       "      <td>...</td>\n",
       "      <td>1</td>\n",
       "      <td>0</td>\n",
       "      <td>0</td>\n",
       "      <td>0</td>\n",
       "      <td>0</td>\n",
       "      <td>0</td>\n",
       "      <td>0</td>\n",
       "      <td>0</td>\n",
       "      <td>0</td>\n",
       "      <td>1</td>\n",
       "    </tr>\n",
       "    <tr>\n",
       "      <th>2</th>\n",
       "      <td>0.77</td>\n",
       "      <td>5.0</td>\n",
       "      <td>4.3</td>\n",
       "      <td>1.00</td>\n",
       "      <td>Astapor</td>\n",
       "      <td>2014-01-07</td>\n",
       "      <td>iPhone</td>\n",
       "      <td>2014-01-06</td>\n",
       "      <td>0.0</td>\n",
       "      <td>3</td>\n",
       "      <td>...</td>\n",
       "      <td>0</td>\n",
       "      <td>0</td>\n",
       "      <td>1</td>\n",
       "      <td>0</td>\n",
       "      <td>1</td>\n",
       "      <td>0</td>\n",
       "      <td>0</td>\n",
       "      <td>0</td>\n",
       "      <td>0</td>\n",
       "      <td>0</td>\n",
       "    </tr>\n",
       "    <tr>\n",
       "      <th>3</th>\n",
       "      <td>2.36</td>\n",
       "      <td>4.9</td>\n",
       "      <td>4.6</td>\n",
       "      <td>1.14</td>\n",
       "      <td>King's Landing</td>\n",
       "      <td>2014-06-29</td>\n",
       "      <td>iPhone</td>\n",
       "      <td>2014-01-10</td>\n",
       "      <td>20.0</td>\n",
       "      <td>9</td>\n",
       "      <td>...</td>\n",
       "      <td>0</td>\n",
       "      <td>0</td>\n",
       "      <td>1</td>\n",
       "      <td>1</td>\n",
       "      <td>0</td>\n",
       "      <td>0</td>\n",
       "      <td>0</td>\n",
       "      <td>0</td>\n",
       "      <td>0</td>\n",
       "      <td>0</td>\n",
       "    </tr>\n",
       "    <tr>\n",
       "      <th>4</th>\n",
       "      <td>3.13</td>\n",
       "      <td>4.9</td>\n",
       "      <td>4.4</td>\n",
       "      <td>1.19</td>\n",
       "      <td>Winterfell</td>\n",
       "      <td>2014-03-15</td>\n",
       "      <td>Android</td>\n",
       "      <td>2014-01-27</td>\n",
       "      <td>11.8</td>\n",
       "      <td>14</td>\n",
       "      <td>...</td>\n",
       "      <td>1</td>\n",
       "      <td>0</td>\n",
       "      <td>0</td>\n",
       "      <td>0</td>\n",
       "      <td>1</td>\n",
       "      <td>0</td>\n",
       "      <td>0</td>\n",
       "      <td>0</td>\n",
       "      <td>0</td>\n",
       "      <td>0</td>\n",
       "    </tr>\n",
       "  </tbody>\n",
       "</table>\n",
       "<p>5 rows × 28 columns</p>\n",
       "</div>"
      ],
      "text/plain": [
       "   avg_dist  avg_rating_by_driver  avg_rating_of_driver  avg_surge  \\\n",
       "0      3.67                   5.0                   4.7       1.10   \n",
       "1      8.26                   5.0                   5.0       1.00   \n",
       "2      0.77                   5.0                   4.3       1.00   \n",
       "3      2.36                   4.9                   4.6       1.14   \n",
       "4      3.13                   4.9                   4.4       1.19   \n",
       "\n",
       "             city last_trip_date    phone signup_date  surge_pct  \\\n",
       "0  King's Landing     2014-06-17   iPhone  2014-01-25       15.4   \n",
       "1         Astapor     2014-05-05  Android  2014-01-29        0.0   \n",
       "2         Astapor     2014-01-07   iPhone  2014-01-06        0.0   \n",
       "3  King's Landing     2014-06-29   iPhone  2014-01-10       20.0   \n",
       "4      Winterfell     2014-03-15  Android  2014-01-27       11.8   \n",
       "\n",
       "   trips_in_first_30_days         ...          phone_Android  phone_Computer  \\\n",
       "0                       4         ...                      0               0   \n",
       "1                       0         ...                      1               0   \n",
       "2                       3         ...                      0               0   \n",
       "3                       9         ...                      0               0   \n",
       "4                      14         ...                      1               0   \n",
       "\n",
       "   phone_iPhone  signup_weekday_Fri signup_weekday_Mon  signup_weekday_Sat  \\\n",
       "0             1                   0                  0                   1   \n",
       "1             0                   0                  0                   0   \n",
       "2             1                   0                  1                   0   \n",
       "3             1                   1                  0                   0   \n",
       "4             0                   0                  1                   0   \n",
       "\n",
       "   signup_weekday_Sun  signup_weekday_Thurs  signup_weekday_Tues  \\\n",
       "0                   0                     0                    0   \n",
       "1                   0                     0                    0   \n",
       "2                   0                     0                    0   \n",
       "3                   0                     0                    0   \n",
       "4                   0                     0                    0   \n",
       "\n",
       "   signup_weekday_Wed  \n",
       "0                   0  \n",
       "1                   1  \n",
       "2                   0  \n",
       "3                   0  \n",
       "4                   0  \n",
       "\n",
       "[5 rows x 28 columns]"
      ]
     },
     "execution_count": 38,
     "metadata": {},
     "output_type": "execute_result"
    }
   ],
   "source": [
    "#Create categories for each piece of categorical data\n",
    "ulti_df.ultimate_black_user=ulti_df.ultimate_black_user.astype('int')\n",
    "df_cat= pd.get_dummies(ulti_df[['city', 'phone', 'signup_weekday']], columns=['city', 'phone', 'signup_weekday'])\n",
    "ulti_df=ulti_df.join(df_cat)\n",
    "ulti_df.head()"
   ]
  },
  {
   "cell_type": "code",
   "execution_count": 42,
   "metadata": {},
   "outputs": [
    {
     "data": {
      "text/plain": [
       "Index([              u'avg_dist',   u'avg_rating_by_driver',\n",
       "         u'avg_rating_of_driver',              u'avg_surge',\n",
       "                         u'city',         u'last_trip_date',\n",
       "                        u'phone',            u'signup_date',\n",
       "                    u'surge_pct', u'trips_in_first_30_days',\n",
       "          u'ultimate_black_user',            u'weekday_pct',\n",
       "                      u'ret_len',               u'retained',\n",
       "               u'signup_weekday',           u'city_Astapor',\n",
       "          u'city_King's Landing',        u'city_Winterfell',\n",
       "                u'phone_Android',         u'phone_Computer',\n",
       "                 u'phone_iPhone',     u'signup_weekday_Fri',\n",
       "           u'signup_weekday_Mon',     u'signup_weekday_Sat',\n",
       "           u'signup_weekday_Sun',   u'signup_weekday_Thurs',\n",
       "          u'signup_weekday_Tues',     u'signup_weekday_Wed'],\n",
       "      dtype='object')"
      ]
     },
     "execution_count": 42,
     "metadata": {},
     "output_type": "execute_result"
    }
   ],
   "source": [
    "\n",
    "ulti_df.columns"
   ]
  },
  {
   "cell_type": "code",
   "execution_count": 44,
   "metadata": {},
   "outputs": [],
   "source": [
    "column=['avg_dist','avg_rating_by_driver', 'avg_rating_of_driver', 'avg_surge', 'surge_pct', 'ultimate_black_user',\n",
    "         'trips_in_first_30_days', 'weekday_pct', 'city_Astapor','city_King\\'s Landing','city_Winterfell',\n",
    "        'phone_Android','phone_Computer','phone_iPhone','signup_weekday_Fri','signup_weekday_Mon',\n",
    "        'signup_weekday_Sat','signup_weekday_Sun', 'signup_weekday_Thurs','signup_weekday_Tues',\n",
    "        'signup_weekday_Wed','retained']"
   ]
  },
  {
   "cell_type": "code",
   "execution_count": 45,
   "metadata": {},
   "outputs": [],
   "source": [
    "ulti_df[column].to_pickle('ml_ready_ultimate_data_challenge.pkl')"
   ]
  },
  {
   "cell_type": "markdown",
   "metadata": {},
   "source": [
    "1. In cleaning this dataset I got rid of rows with no infor in the driver rating columns. This was eight thousand observations or 16%. I think this was better than inserting mean or median scores because these ratings may be an importnant feature and inserting the median may be misleading. I do not think this will affect the analysis because of the number of observations in the dataset. I created a target variable 'retained' for our future model. Additionally, I created some catergoric variabel to aid the model. The model and the answers to the last two questions will be in Ultimate_ML_modeling. "
   ]
  },
  {
   "cell_type": "code",
   "execution_count": null,
   "metadata": {},
   "outputs": [],
   "source": []
  }
 ],
 "metadata": {
  "kernelspec": {
   "display_name": "Python 2",
   "language": "python",
   "name": "python2"
  },
  "language_info": {
   "codemirror_mode": {
    "name": "ipython",
    "version": 2
   },
   "file_extension": ".py",
   "mimetype": "text/x-python",
   "name": "python",
   "nbconvert_exporter": "python",
   "pygments_lexer": "ipython2",
   "version": "2.7.15"
  }
 },
 "nbformat": 4,
 "nbformat_minor": 2
}
